{
 "cells": [
  {
   "cell_type": "code",
   "execution_count": 5,
   "metadata": {},
   "outputs": [],
   "source": []
  },
  {
   "cell_type": "markdown",
   "metadata": {},
   "source": []
  },
  {
   "cell_type": "code",
   "execution_count": 7,
   "metadata": {},
   "outputs": [
    {
     "name": "stdout",
     "output_type": "stream",
     "text": [
      "Financial Summary\n",
      "-----------------------------------\n",
      "Total Months: 86\n",
      "Total: $38382578\n",
      "Average Change: $-2315.12\n",
      "Greatest Increase in Profits: Feb-2012  ($1926159)\n",
      "Smallest Increase in Profits: Sep-2013  ($-2196167)\n"
     ]
    }
   ],
   "source": [
    "from pathlib import Path\n",
    "import csv\n",
    "\n",
    "#initialize variables\n",
    "pl_sum = 0 # sum of profit/loss\n",
    "sum_diff = 0 #sum of change\n",
    "avg_diff = 0 # average of change\n",
    "num_months = 0 # month count\n",
    "pl_maxdiff = 0 #max value of change\n",
    "pl_maxmonth = '' #month associated with maxdiff\n",
    "pl_mindiff = 0 # min value of change\n",
    "pl_minmonth = '' #month associated with mindiff\n",
    "print_list = [] #list of items to print, for convenience\n",
    "records = [] #list to capture incoming data\n",
    "header = [] #header for incoming/outgoing data\n",
    "\n",
    "file_in = Path(\"budget_data.csv\")  #input path\n",
    "file_out = \"output.csv\"  #output file name\n",
    "\n",
    "with open(file_in,'r') as f:  #read in file\n",
    "    csvreader = csv.reader(f,delimiter = ',')\n",
    "    \n",
    "    header = next(csvreader)\n",
    "    \n",
    "    for row in csvreader:\n",
    "        dt = row[0]\n",
    "        val = int(row[1])\n",
    "        pl_sum += val\n",
    "        records.append(row)\n",
    "\n",
    "    num_months = len(records)  #get total record count after loop completes\n",
    "    \n",
    "    i = 0  #iterator to use in change calc\n",
    "    for i in range(0,num_months):\n",
    "        if (i != 0): #skip first row since change is N/A\n",
    "            diff = (int(records[i][1]) - int(records[i-1][1]))\n",
    "            if diff > pl_maxdiff:  #get max d\n",
    "                pl_maxdiff = diff\n",
    "                pl_maxmonth = records[i][0]\n",
    "            \n",
    "            if diff < pl_mindiff:\n",
    "                pl_mindiff = diff\n",
    "                pl_minmonth = records[i][0]\n",
    "            \n",
    "            sum_diff += diff\n",
    "            records[i].append(int(diff))\n",
    "    \n",
    "    avg_diff = round(sum_diff/(num_months-1),2)\n",
    "\n",
    "\n",
    "\n",
    "L1 = \"Financial Summary\"\n",
    "L2 = \"-----------------------------------\"\n",
    "L3 = \"Total Months: \" + str(num_months)\n",
    "L4 = \"Total: $\" + str(pl_sum)\n",
    "L5 = \"Average Change: $\" + str(round(avg_diff,2))\n",
    "L6 = \"Greatest Increase in Profits: \" + pl_maxmonth + \"  ($\" + str(pl_maxdiff) + \")\"\n",
    "L7 = \"Smallest Increase in Profits: \" + pl_minmonth + \"  ($\" + str(pl_mindiff) + \")\"\n",
    "\n",
    "print_list = [L1,L2,L3,L4,L5,L6,L7]\n",
    "\n",
    "for item in print_list:\n",
    "    print(item)\n",
    "    \n",
    "with open(file_out,'w') as out:\n",
    "    csvwriter = csv.writer(out,delimiter = ',')\n",
    "    \n",
    "    for item in print_list:\n",
    "        csvwriter.writerow([item])    "
   ]
  },
  {
   "cell_type": "code",
   "execution_count": null,
   "metadata": {},
   "outputs": [],
   "source": []
  },
  {
   "cell_type": "code",
   "execution_count": 101,
   "metadata": {},
   "outputs": [],
   "source": []
  },
  {
   "cell_type": "code",
   "execution_count": null,
   "metadata": {},
   "outputs": [],
   "source": [
    " "
   ]
  },
  {
   "cell_type": "code",
   "execution_count": null,
   "metadata": {},
   "outputs": [],
   "source": []
  },
  {
   "cell_type": "code",
   "execution_count": null,
   "metadata": {},
   "outputs": [],
   "source": []
  }
 ],
 "metadata": {
  "kernelspec": {
   "display_name": "Python 3",
   "language": "python",
   "name": "python3"
  },
  "language_info": {
   "codemirror_mode": {
    "name": "ipython",
    "version": 3
   },
   "file_extension": ".py",
   "mimetype": "text/x-python",
   "name": "python",
   "nbconvert_exporter": "python",
   "pygments_lexer": "ipython3",
   "version": "3.8.3"
  }
 },
 "nbformat": 4,
 "nbformat_minor": 4
}
