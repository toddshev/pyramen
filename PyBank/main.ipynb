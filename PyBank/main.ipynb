{
 "cells": [
  {
   "cell_type": "code",
   "execution_count": 138,
   "metadata": {},
   "outputs": [],
   "source": [
    "import os\n",
    "import csv\n",
    "\n",
    "#file path/read in\n",
    "csv_file = os.path.join(\"\",\"budget_data.csv\")"
   ]
  },
  {
   "cell_type": "markdown",
   "metadata": {},
   "source": [
    "## Read in file"
   ]
  },
  {
   "cell_type": "code",
   "execution_count": 233,
   "metadata": {},
   "outputs": [
    {
     "name": "stdout",
     "output_type": "stream",
     "text": [
      "Financial Summary\n",
      "----------------\n",
      "Total Months: 86\n",
      "Total: $38382578\n",
      "Average Change: $-2315.12\n",
      "Greatest Increase in Profits: Feb-2012  $1926159\n",
      "Smallest Increase in Profits: Sep-2013  $-2196167\n"
     ]
    }
   ],
   "source": [
    "pl_sum = 0\n",
    "avg_diff = 0\n",
    "num_months = 0 \n",
    "pl_maxdiff = 0\n",
    "pl_mindiff = 0\n",
    "\n",
    "with open(csv_file,'r') as f:\n",
    "    lines = f.readlines()\n",
    "    \n",
    "    pl_header = pl[0]\n",
    "    date_header = trans_date[0]\n",
    "    \n",
    "    f.readlines()\n",
    "    \n",
    "    num_months = len(lines)-1\n",
    "    trans_date = []\n",
    "    pl = []\n",
    "    diff = []\n",
    "    \n",
    "    for line in lines:\n",
    "        data = line.split(',')\n",
    "        trans_date.append(data[0])\n",
    "        pl.append(data[1])\n",
    "    \n",
    "    pl_header = pl.pop(0)\n",
    "    date_header = trans_date.pop(0)\n",
    "    \n",
    "    f.close\n",
    "    \n",
    "pl_sum = 0\n",
    "i=0\n",
    "for i in range(0,num_months):\n",
    "    pl_sum += int(pl[i])\n",
    "i=0\n",
    "for i in range(0,num_months):\n",
    "    if (i>0):\n",
    "        diff.append(int(pl[i])-int(pl[i-1]))\n",
    "\n",
    "pl_maxdiff = max(diff)\n",
    "pl_mindiff = min(diff)\n",
    "pl_maxmonth = trans_date[diff.index(pl_maxdiff)+1]\n",
    "pl_minmonth = trans_date[diff.index(pl_mindiff)+1]\n",
    "avg_diff = sum(diff)/(num_months-1)\n",
    "\n",
    "L1 = \"Financial Summary\"\n",
    "L2 = \"----------------\"\n",
    "L3 = \"Total Months: \" + str(num_months)\n",
    "L4 = \"Total: $\" + str(pl_sum)\n",
    "L5 = \"Average Change: $\" + str(round(avg_diff,2))\n",
    "L6 = \"Greatest Increase in Profits: \" + pl_maxmonth + \"  $\" + str(pl_maxdiff)\n",
    "L7 = \"Smallest Increase in Profits: \" + pl_minmonth + \"  $\" + str(pl_mindiff)\n",
    "\n",
    "print(L1 + \"\\n\" + L2 + \"\\n\" + L3 + \"\\n\" + L4 + \"\\n\" + L5 + \"\\n\" + L6 + \"\\n\" + L7)\n",
    "\n",
    "data_output = os.path.join(\"\",\"output.csv\")\n",
    "\n",
    "with open(data_output,\"w\",newline=\"\") as fout:\n",
    "    writer = csv.writer(fout)\n",
    "    \n",
    "    writer.writerow([L1])\n",
    "    writer.writerow([L2])\n",
    "    writer.writerow([L3])\n",
    "    writer.writerow([L4])\n",
    "    writer.writerow([L5])\n",
    "    writer.writerow([L6])\n",
    "    writer.writerow([L7])\n"
   ]
  },
  {
   "cell_type": "code",
   "execution_count": null,
   "metadata": {},
   "outputs": [],
   "source": []
  },
  {
   "cell_type": "code",
   "execution_count": 224,
   "metadata": {},
   "outputs": [],
   "source": [
    "def print_stuff(txt,val=\"\",val2=\"\"):\n",
    "    print(f'{txt} {val} {val2} \\n' )"
   ]
  },
  {
   "cell_type": "code",
   "execution_count": 222,
   "metadata": {},
   "outputs": [
    {
     "name": "stdout",
     "output_type": "stream",
     "text": [
      "Total Months:  86  \n",
      "\n",
      "Total: $ 38382578  \n",
      "\n",
      "Average Change: $ -2315.12  \n",
      "\n",
      "Greatest Increase in Profits:  Feb-2012 $1926159 \n",
      "\n",
      "Smallest Increase in Profits:  Sep-2013 $-2196167 \n",
      "\n"
     ]
    }
   ],
   "source": [
    "data_output = os.path.join(\"\",\"output.csv\")\n",
    "\n",
    "with open(data_output,\"w\",newline=\"\") as fout:\n",
    "    writer = csv.writer(fout)\n",
    "    \n",
    "    writer.writerow([\"Financial Summary\"])\n",
    "    writer.writerow([\"--------\"])\n",
    "    writer.writerow([print_stuff(\"Total Months: \", int(num_months))])\n",
    "    writer.writerow([print_stuff(\"Total: $\",pl_sum)])\n",
    "    writer.writerow([print_stuff(\"Average Change: $\",round(avg_diff,2))])\n",
    "    writer.writerow([print_stuff(\"Greatest Increase in Profits: \",pl_maxmonth,\"$\" + str(pl_maxdiff))])\n",
    "    writer.writerow([print_stuff(\"Smallest Increase in Profits: \",pl_minmonth,\"$\" + str(pl_mindiff))])"
   ]
  },
  {
   "cell_type": "code",
   "execution_count": 185,
   "metadata": {},
   "outputs": [
    {
     "ename": "IndexError",
     "evalue": "tuple index out of range",
     "output_type": "error",
     "traceback": [
      "\u001b[1;31m---------------------------------------------------------------------------\u001b[0m",
      "\u001b[1;31mIndexError\u001b[0m                                Traceback (most recent call last)",
      "\u001b[1;32m<ipython-input-185-358f12ed3607>\u001b[0m in \u001b[0;36m<module>\u001b[1;34m\u001b[0m\n\u001b[1;32m----> 1\u001b[1;33m \u001b[0mprint_stuff\u001b[0m\u001b[1;33m(\u001b[0m\u001b[1;34m\"Total Months: \"\u001b[0m\u001b[1;33m,\u001b[0m\u001b[0mnum_months\u001b[0m\u001b[1;33m)\u001b[0m\u001b[1;33m\u001b[0m\u001b[1;33m\u001b[0m\u001b[0m\n\u001b[0m\u001b[0;32m      2\u001b[0m \u001b[0mprint_stuff\u001b[0m\u001b[1;33m(\u001b[0m\u001b[1;34m\"Total: $\"\u001b[0m\u001b[1;33m,\u001b[0m\u001b[0mpl_sum\u001b[0m\u001b[1;33m)\u001b[0m\u001b[1;33m\u001b[0m\u001b[1;33m\u001b[0m\u001b[0m\n\u001b[0;32m      3\u001b[0m \u001b[0mprint_stuff\u001b[0m\u001b[1;33m(\u001b[0m\u001b[1;34m\"Average Change: $\"\u001b[0m\u001b[1;33m,\u001b[0m\u001b[0mavg_diff\u001b[0m\u001b[1;33m)\u001b[0m\u001b[1;33m\u001b[0m\u001b[1;33m\u001b[0m\u001b[0m\n\u001b[0;32m      4\u001b[0m \u001b[0mprint_stuff\u001b[0m\u001b[1;33m(\u001b[0m\u001b[1;34m\"Greatest Increase in Profits: \"\u001b[0m\u001b[1;33m)\u001b[0m\u001b[1;33m\u001b[0m\u001b[1;33m\u001b[0m\u001b[0m\n\u001b[0;32m      5\u001b[0m \u001b[0mprint_stuff\u001b[0m\u001b[1;33m(\u001b[0m\u001b[1;34m\"Greatest Decrease in Profits: \"\u001b[0m\u001b[1;33m)\u001b[0m\u001b[1;33m\u001b[0m\u001b[1;33m\u001b[0m\u001b[0m\n",
      "\u001b[1;32m<ipython-input-183-6df5768108e7>\u001b[0m in \u001b[0;36mprint_stuff\u001b[1;34m(txt, val, *args)\u001b[0m\n\u001b[0;32m      1\u001b[0m \u001b[1;32mdef\u001b[0m \u001b[0mprint_stuff\u001b[0m\u001b[1;33m(\u001b[0m\u001b[0mtxt\u001b[0m\u001b[1;33m,\u001b[0m\u001b[0mval\u001b[0m\u001b[1;33m,\u001b[0m\u001b[1;33m*\u001b[0m\u001b[0margs\u001b[0m\u001b[1;33m)\u001b[0m\u001b[1;33m:\u001b[0m\u001b[1;33m\u001b[0m\u001b[1;33m\u001b[0m\u001b[0m\n\u001b[1;32m----> 2\u001b[1;33m     \u001b[0mprint\u001b[0m\u001b[1;33m(\u001b[0m\u001b[1;34mf'{txt} {val} {args[0]} \\n'\u001b[0m \u001b[1;33m)\u001b[0m\u001b[1;33m\u001b[0m\u001b[1;33m\u001b[0m\u001b[0m\n\u001b[0m",
      "\u001b[1;31mIndexError\u001b[0m: tuple index out of range"
     ]
    }
   ],
   "source": []
  },
  {
   "cell_type": "code",
   "execution_count": null,
   "metadata": {},
   "outputs": [],
   "source": []
  }
 ],
 "metadata": {
  "kernelspec": {
   "display_name": "Python 3",
   "language": "python",
   "name": "python3"
  },
  "language_info": {
   "codemirror_mode": {
    "name": "ipython",
    "version": 3
   },
   "file_extension": ".py",
   "mimetype": "text/x-python",
   "name": "python",
   "nbconvert_exporter": "python",
   "pygments_lexer": "ipython3",
   "version": "3.8.3"
  }
 },
 "nbformat": 4,
 "nbformat_minor": 4
}
